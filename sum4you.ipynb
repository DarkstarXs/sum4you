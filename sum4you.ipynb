{
  "nbformat": 4,
  "nbformat_minor": 0,
  "metadata": {
    "colab": {
      "provenance": [],
      "toc_visible": true,
      "include_colab_link": true
    },
    "kernelspec": {
      "name": "python3",
      "display_name": "Python 3"
    },
    "language_info": {
      "name": "python"
    }
  },
  "cells": [
    {
      "cell_type": "markdown",
      "metadata": {
        "id": "view-in-github",
        "colab_type": "text"
      },
      "source": [
        "<a href=\"https://colab.research.google.com/github/DarkstarXs/sum4you/blob/main/sum4you.ipynb\" target=\"_parent\"><img src=\"https://colab.research.google.com/assets/colab-badge.svg\" alt=\"Open In Colab\"/></a>"
      ]
    },
    {
      "cell_type": "code",
      "source": [
        "!pip install pytube\n",
        "!pip install assemblyai\n",
        "from pytube import YouTube\n",
        "import assemblyai as aai\n",
        "aai.settings.api_key = \"2ae859c559c145c5855295399aab0990\"\n",
        "import os\n"
      ],
      "metadata": {
        "colab": {
          "base_uri": "https://localhost:8080/"
        },
        "id": "Mz8MUPJYlMbO",
        "outputId": "147689a8-d6f9-418d-ed89-f6d151cb2a28"
      },
      "execution_count": null,
      "outputs": [
        {
          "output_type": "stream",
          "name": "stdout",
          "text": [
            "Collecting pytube\n",
            "  Downloading pytube-15.0.0-py3-none-any.whl (57 kB)\n",
            "\u001b[?25l     \u001b[90m━━━━━━━━━━━━━━━━━━━━━━━━━━━━━━━━━━━━━━━━\u001b[0m \u001b[32m0.0/57.6 kB\u001b[0m \u001b[31m?\u001b[0m eta \u001b[36m-:--:--\u001b[0m\r\u001b[2K     \u001b[90m━━━━━━━━━━━━━━━━━━━━━━━━━━━━━━━━━━━━━━━━\u001b[0m \u001b[32m57.6/57.6 kB\u001b[0m \u001b[31m1.9 MB/s\u001b[0m eta \u001b[36m0:00:00\u001b[0m\n",
            "\u001b[?25hInstalling collected packages: pytube\n",
            "Successfully installed pytube-15.0.0\n",
            "Collecting assemblyai\n",
            "  Downloading assemblyai-0.22.0-py3-none-any.whl (65 kB)\n",
            "\u001b[2K     \u001b[90m━━━━━━━━━━━━━━━━━━━━━━━━━━━━━━━━━━━━━━━━\u001b[0m \u001b[32m65.4/65.4 kB\u001b[0m \u001b[31m1.2 MB/s\u001b[0m eta \u001b[36m0:00:00\u001b[0m\n",
            "\u001b[?25hCollecting httpx>=0.19.0 (from assemblyai)\n",
            "  Downloading httpx-0.27.0-py3-none-any.whl (75 kB)\n",
            "\u001b[2K     \u001b[90m━━━━━━━━━━━━━━━━━━━━━━━━━━━━━━━━━━━━━━━━\u001b[0m \u001b[32m75.6/75.6 kB\u001b[0m \u001b[31m4.4 MB/s\u001b[0m eta \u001b[36m0:00:00\u001b[0m\n",
            "\u001b[?25hRequirement already satisfied: pydantic!=1.10.7,>=1.7.0 in /usr/local/lib/python3.10/dist-packages (from assemblyai) (2.6.3)\n",
            "Requirement already satisfied: typing-extensions>=3.7 in /usr/local/lib/python3.10/dist-packages (from assemblyai) (4.10.0)\n",
            "Collecting websockets>=11.0 (from assemblyai)\n",
            "  Downloading websockets-12.0-cp310-cp310-manylinux_2_5_x86_64.manylinux1_x86_64.manylinux_2_17_x86_64.manylinux2014_x86_64.whl (130 kB)\n",
            "\u001b[2K     \u001b[90m━━━━━━━━━━━━━━━━━━━━━━━━━━━━━━━━━━━━━━━━\u001b[0m \u001b[32m130.2/130.2 kB\u001b[0m \u001b[31m8.4 MB/s\u001b[0m eta \u001b[36m0:00:00\u001b[0m\n",
            "\u001b[?25hRequirement already satisfied: anyio in /usr/local/lib/python3.10/dist-packages (from httpx>=0.19.0->assemblyai) (3.7.1)\n",
            "Requirement already satisfied: certifi in /usr/local/lib/python3.10/dist-packages (from httpx>=0.19.0->assemblyai) (2024.2.2)\n",
            "Collecting httpcore==1.* (from httpx>=0.19.0->assemblyai)\n",
            "  Downloading httpcore-1.0.4-py3-none-any.whl (77 kB)\n",
            "\u001b[2K     \u001b[90m━━━━━━━━━━━━━━━━━━━━━━━━━━━━━━━━━━━━━━━━\u001b[0m \u001b[32m77.8/77.8 kB\u001b[0m \u001b[31m10.2 MB/s\u001b[0m eta \u001b[36m0:00:00\u001b[0m\n",
            "\u001b[?25hRequirement already satisfied: idna in /usr/local/lib/python3.10/dist-packages (from httpx>=0.19.0->assemblyai) (3.6)\n",
            "Requirement already satisfied: sniffio in /usr/local/lib/python3.10/dist-packages (from httpx>=0.19.0->assemblyai) (1.3.1)\n",
            "Collecting h11<0.15,>=0.13 (from httpcore==1.*->httpx>=0.19.0->assemblyai)\n",
            "  Downloading h11-0.14.0-py3-none-any.whl (58 kB)\n",
            "\u001b[2K     \u001b[90m━━━━━━━━━━━━━━━━━━━━━━━━━━━━━━━━━━━━━━━━\u001b[0m \u001b[32m58.3/58.3 kB\u001b[0m \u001b[31m7.4 MB/s\u001b[0m eta \u001b[36m0:00:00\u001b[0m\n",
            "\u001b[?25hRequirement already satisfied: annotated-types>=0.4.0 in /usr/local/lib/python3.10/dist-packages (from pydantic!=1.10.7,>=1.7.0->assemblyai) (0.6.0)\n",
            "Requirement already satisfied: pydantic-core==2.16.3 in /usr/local/lib/python3.10/dist-packages (from pydantic!=1.10.7,>=1.7.0->assemblyai) (2.16.3)\n",
            "Requirement already satisfied: exceptiongroup in /usr/local/lib/python3.10/dist-packages (from anyio->httpx>=0.19.0->assemblyai) (1.2.0)\n",
            "Installing collected packages: websockets, h11, httpcore, httpx, assemblyai\n",
            "Successfully installed assemblyai-0.22.0 h11-0.14.0 httpcore-1.0.4 httpx-0.27.0 websockets-12.0\n"
          ]
        }
      ]
    },
    {
      "cell_type": "code",
      "execution_count": null,
      "metadata": {
        "colab": {
          "base_uri": "https://localhost:8080/"
        },
        "id": "kQvStlc1K7DF",
        "outputId": "f62c2f34-278f-4c21-c5d8-488cb74420ca"
      },
      "outputs": [
        {
          "output_type": "stream",
          "name": "stdout",
          "text": [
            "Collecting sumy\n",
            "  Downloading sumy-0.11.0-py2.py3-none-any.whl (97 kB)\n",
            "\u001b[?25l     \u001b[90m━━━━━━━━━━━━━━━━━━━━━━━━━━━━━━━━━━━━━━━━\u001b[0m \u001b[32m0.0/97.3 kB\u001b[0m \u001b[31m?\u001b[0m eta \u001b[36m-:--:--\u001b[0m\r\u001b[2K     \u001b[90m━━━━━━━━━━━━━━━━━━━━━━━━━━━━━━━━━━━━━━━━\u001b[0m \u001b[32m97.3/97.3 kB\u001b[0m \u001b[31m3.0 MB/s\u001b[0m eta \u001b[36m0:00:00\u001b[0m\n",
            "\u001b[?25hCollecting docopt<0.7,>=0.6.1 (from sumy)\n",
            "  Downloading docopt-0.6.2.tar.gz (25 kB)\n",
            "  Preparing metadata (setup.py) ... \u001b[?25l\u001b[?25hdone\n",
            "Collecting breadability>=0.1.20 (from sumy)\n",
            "  Downloading breadability-0.1.20.tar.gz (32 kB)\n",
            "  Preparing metadata (setup.py) ... \u001b[?25l\u001b[?25hdone\n",
            "Requirement already satisfied: requests>=2.7.0 in /usr/local/lib/python3.10/dist-packages (from sumy) (2.31.0)\n",
            "Collecting pycountry>=18.2.23 (from sumy)\n",
            "  Downloading pycountry-23.12.11-py3-none-any.whl (6.2 MB)\n",
            "\u001b[2K     \u001b[90m━━━━━━━━━━━━━━━━━━━━━━━━━━━━━━━━━━━━━━━━\u001b[0m \u001b[32m6.2/6.2 MB\u001b[0m \u001b[31m67.3 MB/s\u001b[0m eta \u001b[36m0:00:00\u001b[0m\n",
            "\u001b[?25hRequirement already satisfied: nltk>=3.0.2 in /usr/local/lib/python3.10/dist-packages (from sumy) (3.8.1)\n",
            "Requirement already satisfied: chardet in /usr/local/lib/python3.10/dist-packages (from breadability>=0.1.20->sumy) (5.2.0)\n",
            "Requirement already satisfied: lxml>=2.0 in /usr/local/lib/python3.10/dist-packages (from breadability>=0.1.20->sumy) (4.9.4)\n",
            "Requirement already satisfied: click in /usr/local/lib/python3.10/dist-packages (from nltk>=3.0.2->sumy) (8.1.7)\n",
            "Requirement already satisfied: joblib in /usr/local/lib/python3.10/dist-packages (from nltk>=3.0.2->sumy) (1.3.2)\n",
            "Requirement already satisfied: regex>=2021.8.3 in /usr/local/lib/python3.10/dist-packages (from nltk>=3.0.2->sumy) (2023.12.25)\n",
            "Requirement already satisfied: tqdm in /usr/local/lib/python3.10/dist-packages (from nltk>=3.0.2->sumy) (4.66.2)\n",
            "Requirement already satisfied: charset-normalizer<4,>=2 in /usr/local/lib/python3.10/dist-packages (from requests>=2.7.0->sumy) (3.3.2)\n",
            "Requirement already satisfied: idna<4,>=2.5 in /usr/local/lib/python3.10/dist-packages (from requests>=2.7.0->sumy) (3.6)\n",
            "Requirement already satisfied: urllib3<3,>=1.21.1 in /usr/local/lib/python3.10/dist-packages (from requests>=2.7.0->sumy) (2.0.7)\n",
            "Requirement already satisfied: certifi>=2017.4.17 in /usr/local/lib/python3.10/dist-packages (from requests>=2.7.0->sumy) (2024.2.2)\n",
            "Building wheels for collected packages: breadability, docopt\n",
            "  Building wheel for breadability (setup.py) ... \u001b[?25l\u001b[?25hdone\n",
            "  Created wheel for breadability: filename=breadability-0.1.20-py2.py3-none-any.whl size=21691 sha256=c6e032fe93470fcf8b2d95eb63b4d0e15d278e292c1ea74179f43d89361be419\n",
            "  Stored in directory: /root/.cache/pip/wheels/64/22/90/b84fcc30e16598db20a0d41340616dbf9b1e82bbcc627b0b33\n",
            "  Building wheel for docopt (setup.py) ... \u001b[?25l\u001b[?25hdone\n",
            "  Created wheel for docopt: filename=docopt-0.6.2-py2.py3-none-any.whl size=13706 sha256=66a5288f672cd2063496561c5b8ddca15c54ec982bd6eb3b3fe14464d9e0b736\n",
            "  Stored in directory: /root/.cache/pip/wheels/fc/ab/d4/5da2067ac95b36618c629a5f93f809425700506f72c9732fac\n",
            "Successfully built breadability docopt\n",
            "Installing collected packages: docopt, pycountry, breadability, sumy\n",
            "Successfully installed breadability-0.1.20 docopt-0.6.2 pycountry-23.12.11 sumy-0.11.0\n"
          ]
        },
        {
          "output_type": "stream",
          "name": "stderr",
          "text": [
            "[nltk_data] Downloading package punkt to /root/nltk_data...\n",
            "[nltk_data]   Unzipping tokenizers/punkt.zip.\n"
          ]
        },
        {
          "output_type": "execute_result",
          "data": {
            "text/plain": [
              "True"
            ]
          },
          "metadata": {},
          "execution_count": 4
        }
      ],
      "source": [
        "!pip install sumy\n",
        "import nltk\n",
        "nltk.download('punkt')\n"
      ]
    },
    {
      "cell_type": "code",
      "source": [
        "print('\\nYoutube to Mp3 Format Downloader\\n')\n",
        "URL = input(\"Enter Video URL:\" )\n",
        "print('\\nEnter 1:for Automation Line Enter 2: for Manual Line\\n')\n",
        "choice = int(input(\"Choose 1 or 2 :\"))\n",
        "if choice == 1:\n",
        "  auto = 1\n",
        "else:\n",
        "  SL = input(\"Enter Line of Summarization:\")\n",
        "yt = YouTube(URL)\n",
        "\n",
        "try:\n",
        "    print(\"\\nDownloading....\")\n",
        "    video = yt.streams.filter(only_audio=True).first()\n",
        "    out_file = video.download()\n",
        "    base, ext = os.path.splitext(out_file)\n",
        "    new_file = base + \".mp3\"\n",
        "    os.rename(out_file, new_file)\n",
        "    print(\"\\nSuccessfully Downloaded\\n\")\n",
        "\n",
        "except:\n",
        "    print(\"\\nSomething Went Wrong Please Try Again....\\n\")\n",
        "\n",
        "# URL of the file to transcribe\n",
        "transcript = aai.Transcriber().transcribe(new_file)\n",
        "\n",
        "subtitles = transcript.export_subtitles_srt()\n",
        "f = open(f\"{base}.srt\",\"a\")\n",
        "f.write(subtitles)\n",
        "f.close()\n",
        "\n",
        "import re\n",
        "\n",
        "def main():\n",
        "    # read file line by line\n",
        "    file = open(f\"{base}.srt\", \"r\")\n",
        "    lines = file.readlines()\n",
        "    file.close()\n",
        "\n",
        "    text = ''\n",
        "    for line in lines:\n",
        "        if re.search('^[0-9]+$', line) is None and re.search('^[0-9]{2}:[0-9]{2}:[0-9]{2}', line) is None and re.search('^$', line) is None:\n",
        "            text += ' ' + line.rstrip('\\n')\n",
        "        text = text.lstrip()\n",
        "    #print(text)\n",
        "    # file = open(f\"{base}.txt\", 'w')\n",
        "    print(len(text))\n",
        "\n",
        "    file = open(\"example.txt\", 'w')\n",
        "    file.write(text)\n",
        "    file.close()\n",
        "    if choice == 1:\n",
        "      num_t = len(text)\n",
        "      num_t = num_t//200\n",
        "      return num_t\n",
        "    else:\n",
        "      return 0\n",
        "\n",
        "man = main()\n"
      ],
      "metadata": {
        "id": "FWE18tPcK94s",
        "colab": {
          "base_uri": "https://localhost:8080/"
        },
        "outputId": "3d67f9d9-ff0e-47be-9622-342b0e9344bd"
      },
      "execution_count": null,
      "outputs": [
        {
          "output_type": "stream",
          "name": "stdout",
          "text": [
            "\n",
            "Youtube to Mp3 Format Downloader\n",
            "\n",
            "Enter Video URL:https://www.youtube.com/watch?v=XuXmpJtT0P4\n",
            "\n",
            "Enter 1:for Automation Line Enter 2: for Manual Line\n",
            "\n",
            "Choose 1 or 2 :1\n",
            "\n",
            "Downloading....\n",
            "\n",
            "Successfully Downloaded\n",
            "\n",
            "14358\n"
          ]
        }
      ]
    },
    {
      "cell_type": "code",
      "source": [
        "from sumy.parsers.plaintext import PlaintextParser\n",
        "from sumy.nlp.tokenizers import Tokenizer\n",
        "from sumy.summarizers.lsa import LsaSummarizer\n",
        "\n",
        "# Input text to be summarized\n",
        "with open('example.txt', 'r') as file:\n",
        "    input_text = file.read()\n",
        "\n",
        "# Parse the input text\n",
        "parser = PlaintextParser.from_string(input_text, Tokenizer(\"english\"))\n",
        "\n",
        "if choice == 1:\n",
        "\n",
        "  count = man\n",
        "else:\n",
        "  count = int(SL)\n",
        "# Create an LSA summarizer\n",
        "summarizer = LsaSummarizer()\n",
        "\n",
        "# Generate the summary\n",
        "summary = summarizer(parser.document, sentences_count=count)  # You can adjust the number of sentences in the summary\n",
        "\n",
        "# Output the summary\n",
        "print(\"Original Text:\")\n",
        "print(input_text)\n",
        "print(\"\\nSummary:\")\n",
        "for sentence in summary:\n",
        "    print(sentence)"
      ],
      "metadata": {
        "colab": {
          "base_uri": "https://localhost:8080/"
        },
        "id": "7NvEyDjVl-xN",
        "outputId": "3ca91a67-6087-431f-f842-c19298b4e4b5"
      },
      "execution_count": null,
      "outputs": [
        {
          "output_type": "stream",
          "name": "stdout",
          "text": [
            "Original Text:\n",
            "The clone commanders of the Grand army of the Republic are some of the most beloved and fascinating characters in the entirety of the Star wars galaxy. Despite all bearing the same face and voice, each commander was incredibly different and had their own story. Not to mention they have some of the coolest looking custom armor in all of Sci-Fi today we're going over them all and bringing you every single clone trooper commander explained. As you can probably guess, there are a lot of clone trooper commanders. While we're going to cover both canon and legends continuity, there's a couple of requirements to make the list. One, we're sticking to commanders. No captains, sergeants, or other ranks. We're going to count Rex as a captain. But hey, if you want a video on every clone captain, let us know in the comments and we might just be able to make it happen. Two, they must be a named commander, otherwise we'd be here twice as long going through unnamed ones. With that, let's begin. Commander Aden was in command of the 7th Legion, a division of the 327th Star Corps. In the mandalorian language of Manda, Auden meant rage or wrath. Auden's phase two armor had brown spots. Commander Oppo took charge of the 501 Legion once Captain Rex took off to Mandalore with the 332nd. Earlier in the war, Oppo served as a sergeant and had an arrow on his helmet, a tribute to the character Oppa from Avatar the last airbender, which Dave Filoni worked on prior to the Clone wars. In revenge of the Sith, Oppo wears standard phase two armor as he leads the 501 to sack the Jedi temple. He's the clone who delivers the infamous line. I'm sorry, sir, it's time for you to leave before being cut down by a Jedi Padawan. Apo actually survived this and continued to serve Darth Vader during the reign of the Galactic Empire, but was later killed by a surviving Jedi master. Commander Blackout was a special Ops trooper trained for stealth under the command of General Skywalker and Admiral Eularen. He led the clone trooper crew of a stealth corvette ship with cloaking capabilities against separatist Admiral Trench. Above Christophsis Ark. Trooper commanders Blitz, Colt Hammer, and Havoc led Rancor Battalion, consisting of many other advanced Regon commandos. Early in the Clone wars, they oversaw the training of clone troopers on Camino and later the planet's defense. The arc troopers each customized their own armor, with Colton hammer customizing it with red and gray color schemes, havoc with blue and blitz in yellow and gray. Blitz and Hammer were the only two to have survived the Battle of Camino. Commander Bly led the 327th Star Corps under the command of Jedi General Alas Sakura, and saw action in many of the harshest battlefronts during the outer rim sieges such as Felucia. There, he complied with order 66 and killed Sakura, moving on to become a commander in the Empire's stormtrooper corps. Commander Bo served in the Empire's 501 legion under Darth Vader. Bo was a part of a 501 stormtrooper squad that clone commander Apo took to Kessel. There, Bo and his fellow troopers rescued Vader from a group of Jedi knights, gunning them down. He continued to serve in the 501 after APo's death, and was likely his successor. Before we get to our next entry, we wanted to quickly let you know that we've just launched a red five channel membership in celebration of passing 50,000 subscribers. For the price of a cup of coffee, you can gain access to perks like early access videos, shoutouts helping us decide on future video topics, exclusive roles within our Discord server, loyalty badges and emojis, priority comment replies, and so much more. Head to the link in the description or join Button on our channel homepage to learn more. Commander Clutch served in the forces led by the Jedi generals Typix and Tur, both of whom were killed by insurgents during the campaign on Thirsta, command defaulted to Jedi commanders Cal and Pix, whom clutch assisted until the arrival of Grandmaster Yoda. Pix was left in command by Yoda, but was deceived by Senator Navi, who was later arrested for treason. Commander Cody led the 7th Sky Corps, including the renowned 212 attack Battalion, alongside Jedi General Obiwan Kenobi. Kenobi found Cody to be reliable, trustworthy and loyal, with his abilities as a soldier and strategist, earning Cody the respect of both his Jedi superiors and fellow clone commanders. Cody served in several major battles, including Christophsis, Geonosis, Anaxis, and Udapao, where he unsuccessfully executed order 66, going on to serve in the empire. He would later question the new regime and deserted soon after. Commander Crosshair was a part of Clone force 99 during the Clone wars. The sole member of his unit to attempt to carry out order 66 deployed against his former squadmates. He was promoted but later also turned against the Empire. Commander Devis was originally the design for Bly, but went on to become his own character. Devis led k company within the 327th, serving in the First Battle of Geonosis, where he risked his life to protect two injured soldiers from spider droids and received a medal after being rescued from behind enemy lines, Devis went on to fight in the battles of Altar five, Cato, Namodia, and Orto, where he killed Jedi General Nem Bees. During order 66, Commander Doom served under Sister Jedi Generals Tipley and Tiplar. His design was inspired by the Marvel villain Dr. Victor von Doom during the battle of Ringo Vinda 501, clone trooper Tup had a malfunction in his clone inhibitor chip, causing him to prematurely execute order 66 and murder Tiplar. Droid reinforcements capitalized on the disarray caused by Tup's betrayal, forcing Doom and his men to retreat under fire and investigate their general's murder. Commander Docs was assigned to Jedi General Rohnhair Kim. Both would perish in the Battle of Mercen, with their forces outnumbered by pirates and battle droids by a factor of five. Commander Fey served in the unit of Jedi General Quinlan Voss, a maverick among the order. Fey's by the book and no nonsense approach were often aggravated by his Jedi superior. Fei was dispatched to the planet Salukamai and later to the Wookie homeworld Kashyyyyk, where a wounded Voss struck him down during the Great Jedi Purge. Before Fey could destroy an entire Wookie village, Commander Phil served under the recently promoted Jedi Knight Nadar Veb. When he and his former master Kit Fisto infiltrated the lair of General Grievous, Commander Phil didn't stand much of a chance against Grievous'peck Gore, who made quick work of him. Commander Fox led the shocktroopers of the Coruscant Guard, the military police of the Republic capital. He twice hunted fugitives Ahsoka Tano and Arktrooper fives, the latter of which he killed. Continuing to serve in the empire, Fox organized a security perimeter around the Jedi temple, while Darth Vader attempted to capture Jocasta Nu. Ultimately, Fox was executed by Vader after his shocktroopers tried to kill the Sith lord. Having mistaken Vader for a Jedi commander, Gansch led the 600 and twelveth attack battalion under Jedi Master Bola Ropal. While overseeing construction of a Jedi temple, they were ambushed by separatist forces. General Ropal was later killed by the bounty hunter Cad Bane. Commander Gree led the 41st elite Corps under Jedi General Luminara unduly, escorting a captured new gunray and fighting in the second Battle of Geonosis in the early days of the war. By its end, he led the 41st on Kashyyyk under Yoda. When order 66 came down, before Gree could even pull the trigger, he and Captain Jack were decapitated. Commander Jenks served with Generals Kenobi and Skywalker when their gunship was shot down. The Yellow armored clone repaired to the ship while the Jedi carried on with their mission. With Jenks returning to just catch Obi Wan as he fell off of a roof, Commander jet led a battalion of clone flame troopers and special ops troopers under Kiadi Mundi. During the second Battle of Geonosis, Commander Keller led a special unit of clone troopers and Galactic Marines under Jedi General Sims, Jedi General Kai Hoodora, and Jedi Commander Noraya na stationed on the planet Tula. During order 66, Keller and his men managed to kill General Sims, but Hudora and Na managed to get away. Commander Kite accompanied Jedi General Eris Nune aboard the Venator class star destroyer laudable when it was attacked by General Grievous's superweapon, the malevolence. Its ion cannon disabled the Republic ship's shields before its turbolasers opened fire and obliterated commander Kite and his forces. Commander Mayday was stationed on the icy planet Barton four for over a year during the imperial era, as his requests for new supplies fell on deaf ears. Tasked with recovering imperial supplies stolen by bandits alongside crosshair, Mayday was injured in a avalanche. Attempting to save Mayday, Crosshair brought him back to the planet's imperial depot despite the freezing conditions they both had to endure. Mayday was denied medical support by Imperial Lieutenant Nolan and died in front of a helpless crosshair, the former bad batch member's breaking point. Commander Monk was a scuba trooper under the leadership of Kit Fisto during the Battle of Moncala. There, he served as a red leader and commanded his men against the separatist aquadroids of separatist Commander Riff Tamsin and his quarin allies. Commander Neo led the 91st Mobile Reconnaissance Corps under Jedi General Stasali during the outer rim sieges, stationed on the world of Salukamai. While patrolling the planet's surface on a bark speeder, he received Order 66 and killed General Ali. Commander Odball, also known as Dazajan, is the only confirmed pilot to hold the rank of commander, though there were certainly more often. Serving under Obiwan Kenobi, Oddball flew an assortment of ships in campaigns such as the Battle of Teth, Battle of Umbara, Battle of Coruscant, and the Battle of Udapao. Post order 66, Oddball and the rest of the pilots over Udapao turned on the Udapao sky force and subjugated the planet. Commander Ponds, like Neo, served in the 91st and is actually, the clone that speaks to Mace Windu in attack of the clones. I have five special commander units awaiting your order, sir. Pons later accompanied Windu on campaigns on the planets of Ryloth and Malastair when Windu's Jedi cruiser was sabotaged by Boba Fet and crashed. Ponz was taken prisoner and later executed by Aura Singh to lure the Jedi out. Commander Red was present for the sabotage of a simulation chamber at the Topoka City military complex on Camino. He was described as having two scars over his right eye. Commander Scorch served with the commando unit Delta squad during the Clone wars. During the reign of the Empire, Scorch was involved in the training of the first generation of non cloned imperial stormtroopers and later served in the advanced Science Division under Dr. Hemlock, leading the Imperial Royal Guard commandos as a clone commander. Commander Stone was another shocktrooper of the Coruscant Guard who served as Jar Jar Binks'bodyguard while on assignment on florum. Commander Tax was in charge of a clone regiment and is the canon announcer for the Galactic Republic. In the multiplayer modes of Star wars battlefront two, Commander Thyre is another Coruscant guard shock trooper. He accompanied Yoda during a mission to form an alliance between King Katuko and the Republic. The lieutenant at the time was injured by separatist battle droids, but managed to survive with Yoda's help. By the time of Order 66, Thyre was a commander and searched for Yoda's body after his duel with the emperor, then accompanying Darth Sidious to mustafar to rescue Darth Vader. Commander Thorn was also a shock trooper. When in combat, Thorn was armed with a z six rotary blaster cannon named Hammer. His design was inspired by Thor, evident not only by his name and weapon, but the wings on the side of his helmet. Thorn accompanied Senator Padme Almadala for negotiations on the banking clan's world of Scipio. This was a setup as separatist forces later invaded and bombers attacked Thorne's position before waves of B two super battle droids and BX Commando droids were dropped in. With the clone troopers surrounded and fighting to the end, Thorn, as the last of his men, yelled out one final for the Republic, but was soon killed after multiple blaster shots to the chest. Commander Trauma was an ARF trooper under the command of Jedi General Halsey and Padawan Knox. When Devron's Temple of Edith was attacked by separatist forces, Trauma fought in its defense. Count Dooku's new apprentice, Savage oppress soon arrived and began to turn the tide in the separatists favor. Realizing this trauma engaged opress in a brief confrontation, but was quickly killed by the deadly Sith apprentice. Commander Volka was another to have served in Vader's fist or the 501 Legion, but was killed on a mission to rescue the son of Grand Moth Tarkin. Commander Wolf led the 104th Battalion's Wolf Pack squad under Jedi General PLo Kuhn, one of the few survivors of the malevolence attack over Apragado. Wolf lost his right eye in a fight with the Sith apprentice Assange Ventress, and he subsequently wore a cybernetic replacement and retained facial scars. Wolf was one of the few clone troopers to remove his inhibitor chip in dessert, hiding out with Captains Rex and Gregor by the time of Star Wars Rebels, even helping to liberate Lothal. Finally, we want to shout out some named commanders who only appeared in novels and have little to no images available. This includes Crane, get Levitt, Salvo, Styx, Theo, Valiant, Vargas, and Varna. But which clone Trooper commander is your favorite? Let us know in the comments, and be sure to check out our recent video on the clone trooper ranks. To learn more about the responsibilities of commanders and other clone trooper officers, come join us to chat. More are at our community discord server linked in the description. If you enjoyed today's Star wars video, we've got more on the screen for you right now. Also, make sure to drop a like, and if you're new to the channel, hit subscribe to join the Red Squadron. Until next time, thanks for watching and may the force be with you. Red five standing by.\n",
            "\n",
            "Summary:\n",
            "Not to mention they have some of the coolest looking custom armor in all of Sci-Fi today we're going over them all and bringing you every single clone trooper commander explained.\n",
            "As you can probably guess, there are a lot of clone trooper commanders.\n",
            "While we're going to cover both canon and legends continuity, there's a couple of requirements to make the list.\n",
            "We're going to count Rex as a captain.\n",
            "But hey, if you want a video on every clone captain, let us know in the comments and we might just be able to make it happen.\n",
            "In the mandalorian language of Manda, Auden meant rage or wrath.\n",
            "I'm sorry, sir, it's time for you to leave before being cut down by a Jedi Padawan.\n",
            "Apo actually survived this and continued to serve Darth Vader during the reign of the Galactic Empire, but was later killed by a surviving Jedi master.\n",
            "Commander Blackout was a special Ops trooper trained for stealth under the command of General Skywalker and Admiral Eularen.\n",
            "He led the clone trooper crew of a stealth corvette ship with cloaking capabilities against separatist Admiral Trench.\n",
            "Trooper commanders Blitz, Colt Hammer, and Havoc led Rancor Battalion, consisting of many other advanced Regon commandos.\n",
            "There, he complied with order 66 and killed Sakura, moving on to become a commander in the Empire's stormtrooper corps.\n",
            "Commander Bo served in the Empire's 501 legion under Darth Vader.\n",
            "There, Bo and his fellow troopers rescued Vader from a group of Jedi knights, gunning them down.\n",
            "He continued to serve in the 501 after APo's death, and was likely his successor.\n",
            "For the price of a cup of coffee, you can gain access to perks like early access videos, shoutouts helping us decide on future video topics, exclusive roles within our Discord server, loyalty badges and emojis, priority comment replies, and so much more.\n",
            "Commander Clutch served in the forces led by the Jedi generals Typix and Tur, both of whom were killed by insurgents during the campaign on Thirsta, command defaulted to Jedi commanders Cal and Pix, whom clutch assisted until the arrival of Grandmaster Yoda.\n",
            "Cody served in several major battles, including Christophsis, Geonosis, Anaxis, and Udapao, where he unsuccessfully executed order 66, going on to serve in the empire.\n",
            "He would later question the new regime and deserted soon after.\n",
            "He was promoted but later also turned against the Empire.\n",
            "Commander Devis was originally the design for Bly, but went on to become his own character.\n",
            "Devis led k company within the 327th, serving in the First Battle of Geonosis, where he risked his life to protect two injured soldiers from spider droids and received a medal after being rescued from behind enemy lines, Devis went on to fight in the battles of Altar five, Cato, Namodia, and Orto, where he killed Jedi General Nem Bees.\n",
            "During order 66, Commander Doom served under Sister Jedi Generals Tipley and Tiplar.\n",
            "His design was inspired by the Marvel villain Dr. Victor von Doom during the battle of Ringo Vinda 501, clone trooper Tup had a malfunction in his clone inhibitor chip, causing him to prematurely execute order 66 and murder Tiplar.\n",
            "Droid reinforcements capitalized on the disarray caused by Tup's betrayal, forcing Doom and his men to retreat under fire and investigate their general's murder.\n",
            "Commander Docs was assigned to Jedi General Rohnhair Kim.\n",
            "Both would perish in the Battle of Mercen, with their forces outnumbered by pirates and battle droids by a factor of five.\n",
            "Before Fey could destroy an entire Wookie village, Commander Phil served under the recently promoted Jedi Knight Nadar Veb.\n",
            "When he and his former master Kit Fisto infiltrated the lair of General Grievous, Commander Phil didn't stand much of a chance against Grievous'peck Gore, who made quick work of him.\n",
            "Continuing to serve in the empire, Fox organized a security perimeter around the Jedi temple, while Darth Vader attempted to capture Jocasta Nu.\n",
            "Ultimately, Fox was executed by Vader after his shocktroopers tried to kill the Sith lord.\n",
            "Having mistaken Vader for a Jedi commander, Gansch led the 600 and twelveth attack battalion under Jedi Master Bola Ropal.\n",
            "While overseeing construction of a Jedi temple, they were ambushed by separatist forces.\n",
            "General Ropal was later killed by the bounty hunter Cad Bane.\n",
            "By its end, he led the 41st on Kashyyyk under Yoda.\n",
            "When order 66 came down, before Gree could even pull the trigger, he and Captain Jack were decapitated.\n",
            "Commander Jenks served with Generals Kenobi and Skywalker when their gunship was shot down.\n",
            "With Jenks returning to just catch Obi Wan as he fell off of a roof, Commander jet led a battalion of clone flame troopers and special ops troopers under Kiadi Mundi.\n",
            "During the second Battle of Geonosis, Commander Keller led a special unit of clone troopers and Galactic Marines under Jedi General Sims, Jedi General Kai Hoodora, and Jedi Commander Noraya na stationed on the planet Tula.\n",
            "During order 66, Keller and his men managed to kill General Sims, but Hudora and Na managed to get away.\n",
            "Commander Kite accompanied Jedi General Eris Nune aboard the Venator class star destroyer laudable when it was attacked by General Grievous's superweapon, the malevolence.\n",
            "Its ion cannon disabled the Republic ship's shields before its turbolasers opened fire and obliterated commander Kite and his forces.\n",
            "Commander Mayday was stationed on the icy planet Barton four for over a year during the imperial era, as his requests for new supplies fell on deaf ears.\n",
            "Tasked with recovering imperial supplies stolen by bandits alongside crosshair, Mayday was injured in a avalanche.\n",
            "Mayday was denied medical support by Imperial Lieutenant Nolan and died in front of a helpless crosshair, the former bad batch member's breaking point.\n",
            "There, he served as a red leader and commanded his men against the separatist aquadroids of separatist Commander Riff Tamsin and his quarin allies.\n",
            "While patrolling the planet's surface on a bark speeder, he received Order 66 and killed General Ali.\n",
            "Commander Odball, also known as Dazajan, is the only confirmed pilot to hold the rank of commander, though there were certainly more often.\n",
            "I have five special commander units awaiting your order, sir.\n",
            "Pons later accompanied Windu on campaigns on the planets of Ryloth and Malastair when Windu's Jedi cruiser was sabotaged by Boba Fet and crashed.\n",
            "Ponz was taken prisoner and later executed by Aura Singh to lure the Jedi out.\n",
            "He was described as having two scars over his right eye.\n",
            "Commander Stone was another shocktrooper of the Coruscant Guard who served as Jar Jar Binks'bodyguard while on assignment on florum.\n",
            "In the multiplayer modes of Star wars battlefront two, Commander Thyre is another Coruscant guard shock trooper.\n",
            "He accompanied Yoda during a mission to form an alliance between King Katuko and the Republic.\n",
            "By the time of Order 66, Thyre was a commander and searched for Yoda's body after his duel with the emperor, then accompanying Darth Sidious to mustafar to rescue Darth Vader.\n",
            "When in combat, Thorn was armed with a z six rotary blaster cannon named Hammer.\n",
            "Thorn accompanied Senator Padme Almadala for negotiations on the banking clan's world of Scipio.\n",
            "This was a setup as separatist forces later invaded and bombers attacked Thorne's position before waves of B two super battle droids and BX Commando droids were dropped in.\n",
            "Commander Trauma was an ARF trooper under the command of Jedi General Halsey and Padawan Knox.\n",
            "When Devron's Temple of Edith was attacked by separatist forces, Trauma fought in its defense.\n",
            "Realizing this trauma engaged opress in a brief confrontation, but was quickly killed by the deadly Sith apprentice.\n",
            "Commander Volka was another to have served in Vader's fist or the 501 Legion, but was killed on a mission to rescue the son of Grand Moth Tarkin.\n",
            "Wolf lost his right eye in a fight with the Sith apprentice Assange Ventress, and he subsequently wore a cybernetic replacement and retained facial scars.\n",
            "Wolf was one of the few clone troopers to remove his inhibitor chip in dessert, hiding out with Captains Rex and Gregor by the time of Star Wars Rebels, even helping to liberate Lothal.\n",
            "Finally, we want to shout out some named commanders who only appeared in novels and have little to no images available.\n",
            "This includes Crane, get Levitt, Salvo, Styx, Theo, Valiant, Vargas, and Varna.\n",
            "But which clone Trooper commander is your favorite?\n",
            "Let us know in the comments, and be sure to check out our recent video on the clone trooper ranks.\n",
            "More are at our community discord server linked in the description.\n",
            "Until next time, thanks for watching and may the force be with you.\n"
          ]
        }
      ]
    },
    {
      "cell_type": "code",
      "source": [
        "os.remove(\"example.txt\")\n",
        "os.remove(new_file)\n",
        "os.remove(f\"{base}.srt\")"
      ],
      "metadata": {
        "id": "JJ0y1U-gLHdB"
      },
      "execution_count": null,
      "outputs": []
    },
    {
      "cell_type": "code",
      "source": [],
      "metadata": {
        "id": "g2-Zr_zMLJSj"
      },
      "execution_count": null,
      "outputs": []
    }
  ]
}